{
 "cells": [
  {
   "cell_type": "code",
   "execution_count": 1,
   "metadata": {},
   "outputs": [],
   "source": [
    "import pandas as pd\n"
   ]
  },
  {
   "cell_type": "markdown",
   "metadata": {},
   "source": [
    "We will evaluate data provided by [Eurostat](https://ec.europa.eu/eurostat/web/energy/data/energy-balances), try to clean it for any further analysis we might consider in the future, visualise some of the data to answer couple of questions:\n",
    "\n",
    "* Is there any quarterly pattern in goods handled in Baltic States?\n",
    "* What is y/y change in goods handled in Baltic states?"
   ]
  },
  {
   "cell_type": "code",
   "execution_count": 2,
   "metadata": {},
   "outputs": [],
   "source": [
    "maritime=pd.read_csv('maritime.csv')"
   ]
  },
  {
   "cell_type": "code",
   "execution_count": 3,
   "metadata": {},
   "outputs": [
    {
     "name": "stdout",
     "output_type": "stream",
     "text": [
      "<class 'pandas.core.frame.DataFrame'>\n",
      "RangeIndex: 1471 entries, 0 to 1470\n",
      "Data columns (total 4 columns):\n",
      " #   Column   Non-Null Count  Dtype \n",
      "---  ------   --------------  ----- \n",
      " 0   TIME     1350 non-null   object\n",
      " 1   REP_MAR  1350 non-null   object\n",
      " 2   UNIT     1350 non-null   object\n",
      " 3   Value    1350 non-null   object\n",
      "dtypes: object(4)\n",
      "memory usage: 46.1+ KB\n"
     ]
    }
   ],
   "source": [
    "maritime.info()"
   ]
  },
  {
   "cell_type": "code",
   "execution_count": 4,
   "metadata": {
    "scrolled": false
   },
   "outputs": [
    {
     "data": {
      "text/html": [
       "<div>\n",
       "<style scoped>\n",
       "    .dataframe tbody tr th:only-of-type {\n",
       "        vertical-align: middle;\n",
       "    }\n",
       "\n",
       "    .dataframe tbody tr th {\n",
       "        vertical-align: top;\n",
       "    }\n",
       "\n",
       "    .dataframe thead th {\n",
       "        text-align: right;\n",
       "    }\n",
       "</style>\n",
       "<table border=\"1\" class=\"dataframe\">\n",
       "  <thead>\n",
       "    <tr style=\"text-align: right;\">\n",
       "      <th></th>\n",
       "      <th>TIME</th>\n",
       "      <th>REP_MAR</th>\n",
       "      <th>UNIT</th>\n",
       "      <th>Value</th>\n",
       "    </tr>\n",
       "  </thead>\n",
       "  <tbody>\n",
       "    <tr>\n",
       "      <th>0</th>\n",
       "      <td>2017Q3</td>\n",
       "      <td>European Union - 27 countries (from 2020)</td>\n",
       "      <td>Thousand tonnes</td>\n",
       "      <td>867 048</td>\n",
       "    </tr>\n",
       "    <tr>\n",
       "      <th>1</th>\n",
       "      <td>2017Q3</td>\n",
       "      <td>European Union - 27 countries (from 2020)</td>\n",
       "      <td>Sum of the last 4 quarters</td>\n",
       "      <td>3 389 247</td>\n",
       "    </tr>\n",
       "    <tr>\n",
       "      <th>2</th>\n",
       "      <td>2017Q3</td>\n",
       "      <td>European Union - 27 countries (from 2020)</td>\n",
       "      <td>Rolling 4-quarter growth rate</td>\n",
       "      <td>3.00</td>\n",
       "    </tr>\n",
       "    <tr>\n",
       "      <th>3</th>\n",
       "      <td>2017Q3</td>\n",
       "      <td>European Union - 27 countries (from 2020)</td>\n",
       "      <td>Growth rate on previous period (t/t-1)</td>\n",
       "      <td>1.50</td>\n",
       "    </tr>\n",
       "    <tr>\n",
       "      <th>4</th>\n",
       "      <td>2017Q3</td>\n",
       "      <td>European Union - 27 countries (from 2020)</td>\n",
       "      <td>Growth rate on the same quarter in previous year</td>\n",
       "      <td>4.00</td>\n",
       "    </tr>\n",
       "    <tr>\n",
       "      <th>5</th>\n",
       "      <td>2017Q3</td>\n",
       "      <td>Belgium</td>\n",
       "      <td>Thousand tonnes</td>\n",
       "      <td>64 180</td>\n",
       "    </tr>\n",
       "    <tr>\n",
       "      <th>6</th>\n",
       "      <td>2017Q3</td>\n",
       "      <td>Belgium</td>\n",
       "      <td>Sum of the last 4 quarters</td>\n",
       "      <td>255 968</td>\n",
       "    </tr>\n",
       "    <tr>\n",
       "      <th>7</th>\n",
       "      <td>2017Q3</td>\n",
       "      <td>Belgium</td>\n",
       "      <td>Rolling 4-quarter growth rate</td>\n",
       "      <td>2.00</td>\n",
       "    </tr>\n",
       "    <tr>\n",
       "      <th>8</th>\n",
       "      <td>2017Q3</td>\n",
       "      <td>Belgium</td>\n",
       "      <td>Growth rate on previous period (t/t-1)</td>\n",
       "      <td>-2.90</td>\n",
       "    </tr>\n",
       "    <tr>\n",
       "      <th>9</th>\n",
       "      <td>2017Q3</td>\n",
       "      <td>Belgium</td>\n",
       "      <td>Growth rate on the same quarter in previous year</td>\n",
       "      <td>1.00</td>\n",
       "    </tr>\n",
       "  </tbody>\n",
       "</table>\n",
       "</div>"
      ],
      "text/plain": [
       "     TIME                                    REP_MAR  \\\n",
       "0  2017Q3  European Union - 27 countries (from 2020)   \n",
       "1  2017Q3  European Union - 27 countries (from 2020)   \n",
       "2  2017Q3  European Union - 27 countries (from 2020)   \n",
       "3  2017Q3  European Union - 27 countries (from 2020)   \n",
       "4  2017Q3  European Union - 27 countries (from 2020)   \n",
       "5  2017Q3                                    Belgium   \n",
       "6  2017Q3                                    Belgium   \n",
       "7  2017Q3                                    Belgium   \n",
       "8  2017Q3                                    Belgium   \n",
       "9  2017Q3                                    Belgium   \n",
       "\n",
       "                                               UNIT      Value  \n",
       "0                                   Thousand tonnes    867 048  \n",
       "1                        Sum of the last 4 quarters  3 389 247  \n",
       "2                     Rolling 4-quarter growth rate       3.00  \n",
       "3            Growth rate on previous period (t/t-1)       1.50  \n",
       "4  Growth rate on the same quarter in previous year       4.00  \n",
       "5                                   Thousand tonnes     64 180  \n",
       "6                        Sum of the last 4 quarters    255 968  \n",
       "7                     Rolling 4-quarter growth rate       2.00  \n",
       "8            Growth rate on previous period (t/t-1)      -2.90  \n",
       "9  Growth rate on the same quarter in previous year       1.00  "
      ]
     },
     "execution_count": 4,
     "metadata": {},
     "output_type": "execute_result"
    }
   ],
   "source": [
    "maritime.head(10)"
   ]
  },
  {
   "cell_type": "markdown",
   "metadata": {},
   "source": [
    "Let's get rid off unnecessary rows as we are only interested in Thousand tones units"
   ]
  },
  {
   "cell_type": "code",
   "execution_count": 5,
   "metadata": {
    "scrolled": true
   },
   "outputs": [
    {
     "data": {
      "text/html": [
       "<div>\n",
       "<style scoped>\n",
       "    .dataframe tbody tr th:only-of-type {\n",
       "        vertical-align: middle;\n",
       "    }\n",
       "\n",
       "    .dataframe tbody tr th {\n",
       "        vertical-align: top;\n",
       "    }\n",
       "\n",
       "    .dataframe thead th {\n",
       "        text-align: right;\n",
       "    }\n",
       "</style>\n",
       "<table border=\"1\" class=\"dataframe\">\n",
       "  <thead>\n",
       "    <tr style=\"text-align: right;\">\n",
       "      <th></th>\n",
       "      <th>TIME</th>\n",
       "      <th>REP_MAR</th>\n",
       "      <th>UNIT</th>\n",
       "      <th>Value</th>\n",
       "    </tr>\n",
       "  </thead>\n",
       "  <tbody>\n",
       "    <tr>\n",
       "      <th>0</th>\n",
       "      <td>2017Q3</td>\n",
       "      <td>European Union - 27 countries (from 2020)</td>\n",
       "      <td>Thousand tonnes</td>\n",
       "      <td>867 048</td>\n",
       "    </tr>\n",
       "    <tr>\n",
       "      <th>5</th>\n",
       "      <td>2017Q3</td>\n",
       "      <td>Belgium</td>\n",
       "      <td>Thousand tonnes</td>\n",
       "      <td>64 180</td>\n",
       "    </tr>\n",
       "    <tr>\n",
       "      <th>10</th>\n",
       "      <td>2017Q3</td>\n",
       "      <td>Bulgaria</td>\n",
       "      <td>Thousand tonnes</td>\n",
       "      <td>9 097</td>\n",
       "    </tr>\n",
       "    <tr>\n",
       "      <th>15</th>\n",
       "      <td>2017Q3</td>\n",
       "      <td>Denmark</td>\n",
       "      <td>Thousand tonnes</td>\n",
       "      <td>20 092</td>\n",
       "    </tr>\n",
       "    <tr>\n",
       "      <th>20</th>\n",
       "      <td>2017Q3</td>\n",
       "      <td>Germany</td>\n",
       "      <td>Thousand tonnes</td>\n",
       "      <td>76 029</td>\n",
       "    </tr>\n",
       "    <tr>\n",
       "      <th>25</th>\n",
       "      <td>2017Q3</td>\n",
       "      <td>Estonia</td>\n",
       "      <td>Thousand tonnes</td>\n",
       "      <td>7 042</td>\n",
       "    </tr>\n",
       "    <tr>\n",
       "      <th>30</th>\n",
       "      <td>2017Q3</td>\n",
       "      <td>Ireland</td>\n",
       "      <td>Thousand tonnes</td>\n",
       "      <td>12 700</td>\n",
       "    </tr>\n",
       "    <tr>\n",
       "      <th>35</th>\n",
       "      <td>2017Q3</td>\n",
       "      <td>Greece</td>\n",
       "      <td>Thousand tonnes</td>\n",
       "      <td>40 855</td>\n",
       "    </tr>\n",
       "    <tr>\n",
       "      <th>40</th>\n",
       "      <td>2017Q3</td>\n",
       "      <td>Spain</td>\n",
       "      <td>Thousand tonnes</td>\n",
       "      <td>128 699</td>\n",
       "    </tr>\n",
       "    <tr>\n",
       "      <th>45</th>\n",
       "      <td>2017Q3</td>\n",
       "      <td>France</td>\n",
       "      <td>Thousand tonnes</td>\n",
       "      <td>74 974</td>\n",
       "    </tr>\n",
       "  </tbody>\n",
       "</table>\n",
       "</div>"
      ],
      "text/plain": [
       "      TIME                                    REP_MAR             UNIT  \\\n",
       "0   2017Q3  European Union - 27 countries (from 2020)  Thousand tonnes   \n",
       "5   2017Q3                                    Belgium  Thousand tonnes   \n",
       "10  2017Q3                                   Bulgaria  Thousand tonnes   \n",
       "15  2017Q3                                    Denmark  Thousand tonnes   \n",
       "20  2017Q3                                    Germany  Thousand tonnes   \n",
       "25  2017Q3                                    Estonia  Thousand tonnes   \n",
       "30  2017Q3                                    Ireland  Thousand tonnes   \n",
       "35  2017Q3                                     Greece  Thousand tonnes   \n",
       "40  2017Q3                                      Spain  Thousand tonnes   \n",
       "45  2017Q3                                     France  Thousand tonnes   \n",
       "\n",
       "      Value  \n",
       "0   867 048  \n",
       "5    64 180  \n",
       "10    9 097  \n",
       "15   20 092  \n",
       "20   76 029  \n",
       "25    7 042  \n",
       "30   12 700  \n",
       "35   40 855  \n",
       "40  128 699  \n",
       "45   74 974  "
      ]
     },
     "execution_count": 5,
     "metadata": {},
     "output_type": "execute_result"
    }
   ],
   "source": [
    "rows_to_drop = maritime[(maritime['UNIT']=='Sum of the last 4 quarters')\n",
    "                        |(maritime['UNIT']=='Rolling 4-quarter growth rate')\n",
    "                        |(maritime['UNIT']=='Growth rate on previous period (t/t-1)')\n",
    "                        |(maritime['UNIT']=='Growth rate on the same quarter in previous year') ].index\n",
    "maritime.drop(rows_to_drop, inplace=True)     \n",
    "maritime.head(10)\n"
   ]
  },
  {
   "cell_type": "markdown",
   "metadata": {},
   "source": [
    "We also dont need total EU as it will be a combination of all the countries in the list"
   ]
  },
  {
   "cell_type": "code",
   "execution_count": 6,
   "metadata": {
    "scrolled": true
   },
   "outputs": [
    {
     "data": {
      "text/html": [
       "<div>\n",
       "<style scoped>\n",
       "    .dataframe tbody tr th:only-of-type {\n",
       "        vertical-align: middle;\n",
       "    }\n",
       "\n",
       "    .dataframe tbody tr th {\n",
       "        vertical-align: top;\n",
       "    }\n",
       "\n",
       "    .dataframe thead th {\n",
       "        text-align: right;\n",
       "    }\n",
       "</style>\n",
       "<table border=\"1\" class=\"dataframe\">\n",
       "  <thead>\n",
       "    <tr style=\"text-align: right;\">\n",
       "      <th></th>\n",
       "      <th>TIME</th>\n",
       "      <th>REP_MAR</th>\n",
       "      <th>UNIT</th>\n",
       "      <th>Value</th>\n",
       "    </tr>\n",
       "  </thead>\n",
       "  <tbody>\n",
       "    <tr>\n",
       "      <th>5</th>\n",
       "      <td>2017Q3</td>\n",
       "      <td>Belgium</td>\n",
       "      <td>Thousand tonnes</td>\n",
       "      <td>64 180</td>\n",
       "    </tr>\n",
       "    <tr>\n",
       "      <th>10</th>\n",
       "      <td>2017Q3</td>\n",
       "      <td>Bulgaria</td>\n",
       "      <td>Thousand tonnes</td>\n",
       "      <td>9 097</td>\n",
       "    </tr>\n",
       "    <tr>\n",
       "      <th>15</th>\n",
       "      <td>2017Q3</td>\n",
       "      <td>Denmark</td>\n",
       "      <td>Thousand tonnes</td>\n",
       "      <td>20 092</td>\n",
       "    </tr>\n",
       "    <tr>\n",
       "      <th>20</th>\n",
       "      <td>2017Q3</td>\n",
       "      <td>Germany</td>\n",
       "      <td>Thousand tonnes</td>\n",
       "      <td>76 029</td>\n",
       "    </tr>\n",
       "    <tr>\n",
       "      <th>25</th>\n",
       "      <td>2017Q3</td>\n",
       "      <td>Estonia</td>\n",
       "      <td>Thousand tonnes</td>\n",
       "      <td>7 042</td>\n",
       "    </tr>\n",
       "    <tr>\n",
       "      <th>30</th>\n",
       "      <td>2017Q3</td>\n",
       "      <td>Ireland</td>\n",
       "      <td>Thousand tonnes</td>\n",
       "      <td>12 700</td>\n",
       "    </tr>\n",
       "    <tr>\n",
       "      <th>35</th>\n",
       "      <td>2017Q3</td>\n",
       "      <td>Greece</td>\n",
       "      <td>Thousand tonnes</td>\n",
       "      <td>40 855</td>\n",
       "    </tr>\n",
       "    <tr>\n",
       "      <th>40</th>\n",
       "      <td>2017Q3</td>\n",
       "      <td>Spain</td>\n",
       "      <td>Thousand tonnes</td>\n",
       "      <td>128 699</td>\n",
       "    </tr>\n",
       "    <tr>\n",
       "      <th>45</th>\n",
       "      <td>2017Q3</td>\n",
       "      <td>France</td>\n",
       "      <td>Thousand tonnes</td>\n",
       "      <td>74 974</td>\n",
       "    </tr>\n",
       "    <tr>\n",
       "      <th>50</th>\n",
       "      <td>2017Q3</td>\n",
       "      <td>Croatia</td>\n",
       "      <td>Thousand tonnes</td>\n",
       "      <td>5 068</td>\n",
       "    </tr>\n",
       "  </tbody>\n",
       "</table>\n",
       "</div>"
      ],
      "text/plain": [
       "      TIME   REP_MAR             UNIT    Value\n",
       "5   2017Q3   Belgium  Thousand tonnes   64 180\n",
       "10  2017Q3  Bulgaria  Thousand tonnes    9 097\n",
       "15  2017Q3   Denmark  Thousand tonnes   20 092\n",
       "20  2017Q3   Germany  Thousand tonnes   76 029\n",
       "25  2017Q3   Estonia  Thousand tonnes    7 042\n",
       "30  2017Q3   Ireland  Thousand tonnes   12 700\n",
       "35  2017Q3    Greece  Thousand tonnes   40 855\n",
       "40  2017Q3     Spain  Thousand tonnes  128 699\n",
       "45  2017Q3    France  Thousand tonnes   74 974\n",
       "50  2017Q3   Croatia  Thousand tonnes    5 068"
      ]
     },
     "execution_count": 6,
     "metadata": {},
     "output_type": "execute_result"
    }
   ],
   "source": [
    "EU_to_drop=maritime[maritime['REP_MAR']=='European Union - 27 countries (from 2020)'].index\n",
    "maritime.drop(EU_to_drop,inplace=True)\n",
    "maritime.head(10)"
   ]
  },
  {
   "cell_type": "code",
   "execution_count": 7,
   "metadata": {
    "scrolled": true
   },
   "outputs": [
    {
     "data": {
      "text/plain": [
       "TIME       121\n",
       "REP_MAR    121\n",
       "UNIT       121\n",
       "Value        0\n",
       "dtype: int64"
      ]
     },
     "execution_count": 7,
     "metadata": {},
     "output_type": "execute_result"
    }
   ],
   "source": [
    "maritime['Value']=maritime['Value'].astype(str)\n",
    "maritime.isnull().sum()\n",
    "\n",
    "\n"
   ]
  },
  {
   "cell_type": "code",
   "execution_count": 8,
   "metadata": {
    "scrolled": false
   },
   "outputs": [
    {
     "name": "stdout",
     "output_type": "stream",
     "text": [
      "<class 'pandas.core.frame.DataFrame'>\n",
      "Int64Index: 260 entries, 5 to 1345\n",
      "Data columns (total 4 columns):\n",
      " #   Column   Non-Null Count  Dtype \n",
      "---  ------   --------------  ----- \n",
      " 0   TIME     260 non-null    object\n",
      " 1   REP_MAR  260 non-null    object\n",
      " 2   UNIT     260 non-null    object\n",
      " 3   Value    260 non-null    object\n",
      "dtypes: object(4)\n",
      "memory usage: 10.2+ KB\n"
     ]
    }
   ],
   "source": [
    "maritime=maritime[maritime['TIME'].notna()]\n",
    "maritime=maritime[maritime['REP_MAR'].notna()]\n",
    "maritime=maritime[maritime['UNIT'].notna()]\n",
    "maritime.isnull().sum()\n",
    "maritime.info()"
   ]
  },
  {
   "cell_type": "code",
   "execution_count": 9,
   "metadata": {},
   "outputs": [
    {
     "data": {
      "text/html": [
       "<div>\n",
       "<style scoped>\n",
       "    .dataframe tbody tr th:only-of-type {\n",
       "        vertical-align: middle;\n",
       "    }\n",
       "\n",
       "    .dataframe tbody tr th {\n",
       "        vertical-align: top;\n",
       "    }\n",
       "\n",
       "    .dataframe thead th {\n",
       "        text-align: right;\n",
       "    }\n",
       "</style>\n",
       "<table border=\"1\" class=\"dataframe\">\n",
       "  <thead>\n",
       "    <tr style=\"text-align: right;\">\n",
       "      <th></th>\n",
       "      <th>TIME</th>\n",
       "      <th>REP_MAR</th>\n",
       "      <th>UNIT</th>\n",
       "      <th>Value</th>\n",
       "    </tr>\n",
       "  </thead>\n",
       "  <tbody>\n",
       "    <tr>\n",
       "      <th>1325</th>\n",
       "      <td>2019Q4</td>\n",
       "      <td>Sweden</td>\n",
       "      <td>Thousand tonnes</td>\n",
       "      <td>40 685</td>\n",
       "    </tr>\n",
       "    <tr>\n",
       "      <th>1330</th>\n",
       "      <td>2019Q4</td>\n",
       "      <td>United Kingdom</td>\n",
       "      <td>Thousand tonnes</td>\n",
       "      <td>124 048</td>\n",
       "    </tr>\n",
       "    <tr>\n",
       "      <th>1335</th>\n",
       "      <td>2019Q4</td>\n",
       "      <td>Norway</td>\n",
       "      <td>Thousand tonnes</td>\n",
       "      <td>47 654</td>\n",
       "    </tr>\n",
       "    <tr>\n",
       "      <th>1340</th>\n",
       "      <td>2019Q4</td>\n",
       "      <td>Montenegro</td>\n",
       "      <td>Thousand tonnes</td>\n",
       "      <td>517.00</td>\n",
       "    </tr>\n",
       "    <tr>\n",
       "      <th>1345</th>\n",
       "      <td>2019Q4</td>\n",
       "      <td>Turkey</td>\n",
       "      <td>Thousand tonnes</td>\n",
       "      <td>:</td>\n",
       "    </tr>\n",
       "  </tbody>\n",
       "</table>\n",
       "</div>"
      ],
      "text/plain": [
       "        TIME         REP_MAR             UNIT    Value\n",
       "1325  2019Q4          Sweden  Thousand tonnes   40 685\n",
       "1330  2019Q4  United Kingdom  Thousand tonnes  124 048\n",
       "1335  2019Q4          Norway  Thousand tonnes   47 654\n",
       "1340  2019Q4      Montenegro  Thousand tonnes   517.00\n",
       "1345  2019Q4          Turkey  Thousand tonnes        :"
      ]
     },
     "execution_count": 9,
     "metadata": {},
     "output_type": "execute_result"
    }
   ],
   "source": [
    "maritime.tail()"
   ]
  },
  {
   "cell_type": "markdown",
   "metadata": {},
   "source": [
    "Turkey seems to have bad data, so lets remove those rows as we are not planning to include this country in our analysis"
   ]
  },
  {
   "cell_type": "code",
   "execution_count": 10,
   "metadata": {
    "scrolled": false
   },
   "outputs": [
    {
     "name": "stdout",
     "output_type": "stream",
     "text": [
      "<class 'pandas.core.frame.DataFrame'>\n",
      "Int64Index: 250 entries, 5 to 1340\n",
      "Data columns (total 4 columns):\n",
      " #   Column   Non-Null Count  Dtype \n",
      "---  ------   --------------  ----- \n",
      " 0   TIME     250 non-null    object\n",
      " 1   REP_MAR  250 non-null    object\n",
      " 2   UNIT     250 non-null    object\n",
      " 3   Value    250 non-null    object\n",
      "dtypes: object(4)\n",
      "memory usage: 9.8+ KB\n"
     ]
    }
   ],
   "source": [
    "Turkey=maritime[maritime['REP_MAR']=='Turkey'].index\n",
    "maritime.drop(Turkey,inplace=True)\n",
    "maritime.tail(10)\n",
    "maritime['Value']=maritime['Value'].str.replace(' ','')\n",
    "maritime['Value']=maritime['Value'].str.replace(':','')\n",
    "maritime['Value']=maritime['Value'].astype(int,errors='ignore')\n",
    "\n",
    "maritime.info()"
   ]
  },
  {
   "cell_type": "code",
   "execution_count": 11,
   "metadata": {},
   "outputs": [
    {
     "data": {
      "text/html": [
       "<div>\n",
       "<style scoped>\n",
       "    .dataframe tbody tr th:only-of-type {\n",
       "        vertical-align: middle;\n",
       "    }\n",
       "\n",
       "    .dataframe tbody tr th {\n",
       "        vertical-align: top;\n",
       "    }\n",
       "\n",
       "    .dataframe thead th {\n",
       "        text-align: right;\n",
       "    }\n",
       "</style>\n",
       "<table border=\"1\" class=\"dataframe\">\n",
       "  <thead>\n",
       "    <tr style=\"text-align: right;\">\n",
       "      <th></th>\n",
       "      <th>TIME</th>\n",
       "      <th>REP_MAR</th>\n",
       "      <th>UNIT</th>\n",
       "      <th>Value</th>\n",
       "      <th>Year</th>\n",
       "      <th>Quarter</th>\n",
       "    </tr>\n",
       "  </thead>\n",
       "  <tbody>\n",
       "    <tr>\n",
       "      <th>5</th>\n",
       "      <td>2017Q3</td>\n",
       "      <td>Belgium</td>\n",
       "      <td>Thousand tonnes</td>\n",
       "      <td>64180</td>\n",
       "      <td>2017</td>\n",
       "      <td>Q3</td>\n",
       "    </tr>\n",
       "    <tr>\n",
       "      <th>10</th>\n",
       "      <td>2017Q3</td>\n",
       "      <td>Bulgaria</td>\n",
       "      <td>Thousand tonnes</td>\n",
       "      <td>9097</td>\n",
       "      <td>2017</td>\n",
       "      <td>Q3</td>\n",
       "    </tr>\n",
       "    <tr>\n",
       "      <th>15</th>\n",
       "      <td>2017Q3</td>\n",
       "      <td>Denmark</td>\n",
       "      <td>Thousand tonnes</td>\n",
       "      <td>20092</td>\n",
       "      <td>2017</td>\n",
       "      <td>Q3</td>\n",
       "    </tr>\n",
       "    <tr>\n",
       "      <th>20</th>\n",
       "      <td>2017Q3</td>\n",
       "      <td>Germany</td>\n",
       "      <td>Thousand tonnes</td>\n",
       "      <td>76029</td>\n",
       "      <td>2017</td>\n",
       "      <td>Q3</td>\n",
       "    </tr>\n",
       "    <tr>\n",
       "      <th>25</th>\n",
       "      <td>2017Q3</td>\n",
       "      <td>Estonia</td>\n",
       "      <td>Thousand tonnes</td>\n",
       "      <td>7042</td>\n",
       "      <td>2017</td>\n",
       "      <td>Q3</td>\n",
       "    </tr>\n",
       "  </tbody>\n",
       "</table>\n",
       "</div>"
      ],
      "text/plain": [
       "      TIME   REP_MAR             UNIT  Value  Year Quarter\n",
       "5   2017Q3   Belgium  Thousand tonnes  64180  2017      Q3\n",
       "10  2017Q3  Bulgaria  Thousand tonnes   9097  2017      Q3\n",
       "15  2017Q3   Denmark  Thousand tonnes  20092  2017      Q3\n",
       "20  2017Q3   Germany  Thousand tonnes  76029  2017      Q3\n",
       "25  2017Q3   Estonia  Thousand tonnes   7042  2017      Q3"
      ]
     },
     "execution_count": 11,
     "metadata": {},
     "output_type": "execute_result"
    }
   ],
   "source": [
    "maritime['Year']=maritime['TIME'].str[:4]\n",
    "maritime['Quarter']=maritime['TIME'].str[4:]\n",
    "maritime.head()"
   ]
  },
  {
   "cell_type": "markdown",
   "metadata": {},
   "source": [
    "We have a problem of converting 'Value' column into integer, so let's skip that for now as we will be focusing on individual countries"
   ]
  },
  {
   "cell_type": "markdown",
   "metadata": {},
   "source": [
    "I am interested in evaluating Baltic countries - Latvia,Lithuania,Estonia so I will create a new dataframe for those"
   ]
  },
  {
   "cell_type": "code",
   "execution_count": 12,
   "metadata": {},
   "outputs": [
    {
     "name": "stdout",
     "output_type": "stream",
     "text": [
      "<class 'pandas.core.frame.DataFrame'>\n",
      "Int64Index: 30 entries, 25 to 1285\n",
      "Data columns (total 6 columns):\n",
      " #   Column   Non-Null Count  Dtype \n",
      "---  ------   --------------  ----- \n",
      " 0   TIME     30 non-null     object\n",
      " 1   REP_MAR  30 non-null     object\n",
      " 2   UNIT     30 non-null     object\n",
      " 3   Value    30 non-null     int64 \n",
      " 4   Year     30 non-null     object\n",
      " 5   Quarter  30 non-null     object\n",
      "dtypes: int64(1), object(5)\n",
      "memory usage: 1.6+ KB\n"
     ]
    }
   ],
   "source": [
    "baltic=maritime[(maritime['REP_MAR']=='Latvia') | (maritime['REP_MAR']=='Lithuania') | (maritime['REP_MAR']=='Estonia')].copy()\n",
    "\n",
    "baltic['Value']=baltic['Value'].astype(int)\n",
    "baltic.info()\n"
   ]
  },
  {
   "cell_type": "code",
   "execution_count": 13,
   "metadata": {},
   "outputs": [
    {
     "data": {
      "text/html": [
       "<div>\n",
       "<style scoped>\n",
       "    .dataframe tbody tr th:only-of-type {\n",
       "        vertical-align: middle;\n",
       "    }\n",
       "\n",
       "    .dataframe tbody tr th {\n",
       "        vertical-align: top;\n",
       "    }\n",
       "\n",
       "    .dataframe thead th {\n",
       "        text-align: right;\n",
       "    }\n",
       "</style>\n",
       "<table border=\"1\" class=\"dataframe\">\n",
       "  <thead>\n",
       "    <tr style=\"text-align: right;\">\n",
       "      <th></th>\n",
       "      <th>TIME</th>\n",
       "      <th>REP_MAR</th>\n",
       "      <th>UNIT</th>\n",
       "      <th>Value</th>\n",
       "      <th>Year</th>\n",
       "      <th>Quarter</th>\n",
       "    </tr>\n",
       "  </thead>\n",
       "  <tbody>\n",
       "    <tr>\n",
       "      <th>25</th>\n",
       "      <td>2017Q3</td>\n",
       "      <td>Estonia</td>\n",
       "      <td>Thousand tonnes</td>\n",
       "      <td>7042</td>\n",
       "      <td>2017</td>\n",
       "      <td>Q3</td>\n",
       "    </tr>\n",
       "    <tr>\n",
       "      <th>65</th>\n",
       "      <td>2017Q3</td>\n",
       "      <td>Latvia</td>\n",
       "      <td>Thousand tonnes</td>\n",
       "      <td>12151</td>\n",
       "      <td>2017</td>\n",
       "      <td>Q3</td>\n",
       "    </tr>\n",
       "    <tr>\n",
       "      <th>70</th>\n",
       "      <td>2017Q3</td>\n",
       "      <td>Lithuania</td>\n",
       "      <td>Thousand tonnes</td>\n",
       "      <td>13138</td>\n",
       "      <td>2017</td>\n",
       "      <td>Q3</td>\n",
       "    </tr>\n",
       "    <tr>\n",
       "      <th>160</th>\n",
       "      <td>2017Q4</td>\n",
       "      <td>Estonia</td>\n",
       "      <td>Thousand tonnes</td>\n",
       "      <td>7983</td>\n",
       "      <td>2017</td>\n",
       "      <td>Q4</td>\n",
       "    </tr>\n",
       "    <tr>\n",
       "      <th>200</th>\n",
       "      <td>2017Q4</td>\n",
       "      <td>Latvia</td>\n",
       "      <td>Thousand tonnes</td>\n",
       "      <td>13295</td>\n",
       "      <td>2017</td>\n",
       "      <td>Q4</td>\n",
       "    </tr>\n",
       "  </tbody>\n",
       "</table>\n",
       "</div>"
      ],
      "text/plain": [
       "       TIME    REP_MAR             UNIT  Value  Year Quarter\n",
       "25   2017Q3    Estonia  Thousand tonnes   7042  2017      Q3\n",
       "65   2017Q3     Latvia  Thousand tonnes  12151  2017      Q3\n",
       "70   2017Q3  Lithuania  Thousand tonnes  13138  2017      Q3\n",
       "160  2017Q4    Estonia  Thousand tonnes   7983  2017      Q4\n",
       "200  2017Q4     Latvia  Thousand tonnes  13295  2017      Q4"
      ]
     },
     "execution_count": 13,
     "metadata": {},
     "output_type": "execute_result"
    }
   ],
   "source": [
    "baltic.head()"
   ]
  },
  {
   "cell_type": "code",
   "execution_count": 14,
   "metadata": {
    "scrolled": false
   },
   "outputs": [
    {
     "data": {
      "image/png": "[encoded data removed]",
      "text/plain": [
       "<Figure size 432x288 with 1 Axes>"
      ]
     },
     "metadata": {
      "needs_background": "light"
     },
     "output_type": "display_data"
    }
   ],
   "source": [
    "import matplotlib.pyplot as plt\n",
    "import numpy as np\n",
    "from numpy import arange\n",
    "%matplotlib inline\n",
    "\n",
    "\n",
    "labels = ['Q1','Q2','Q3','Q4']\n",
    "\n",
    "data2019=baltic[baltic['Year']=='2019'].copy()\n",
    "Latvia=baltic[(baltic['Year']=='2019')&(baltic['REP_MAR']=='Latvia')]\n",
    "latvia_data=Latvia['Value']\n",
    "Lithuania=baltic[(baltic['Year']=='2019')&(baltic['REP_MAR']=='Lithuania')]\n",
    "lithuania_data=Lithuania['Value']\n",
    "Estonia=baltic[(baltic['Year']=='2019')&(baltic['REP_MAR']=='Estonia')]\n",
    "estonia_data=Estonia['Value']\n",
    "\n",
    "bar_positions = arange(4)\n",
    "x = np.arange(len(labels))  # the label locations\n",
    "width = 0.45\n",
    "\n",
    "\n",
    "fig, ax = plt.subplots()\n",
    "rects1 = ax.bar(bar_positions,latvia_data, width, label='Latvia',align='center')\n",
    "rects2 = ax.bar(bar_positions, lithuania_data, width, label='Lithuania',align='edge')\n",
    "rects3 = ax.bar(bar_positions, estonia_data, width, label='Lithuania',align='center')\n",
    "\n",
    "ax.set_ylabel('Weight kt')\n",
    "ax.set_title('2019 Baltic data')\n",
    "ax.set_xticks(x)\n",
    "ax.set_xticklabels(labels)\n",
    "ax.legend(handles=[rects1,rects2,rects3], title='Countries',bbox_to_anchor=(1.05, 1), loc='upper left')\n",
    "plt.show()"
   ]
  },
  {
   "cell_type": "markdown",
   "metadata": {},
   "source": [
    "Latvia is reducing its gross tonnage after Q1, for other countries i dont see any particular pattern"
   ]
  },
  {
   "cell_type": "markdown",
   "metadata": {},
   "source": [
    "Lets check changes by quarter between 2018 and 2019 for the Baltic states\n"
   ]
  },
  {
   "cell_type": "code",
   "execution_count": 15,
   "metadata": {},
   "outputs": [
    {
     "name": "stdout",
     "output_type": "stream",
     "text": [
      "<class 'pandas.core.frame.DataFrame'>\n",
      "Int64Index: 12 entries, 295 to 745\n",
      "Data columns (total 6 columns):\n",
      " #   Column   Non-Null Count  Dtype \n",
      "---  ------   --------------  ----- \n",
      " 0   TIME     12 non-null     object\n",
      " 1   REP_MAR  12 non-null     object\n",
      " 2   UNIT     12 non-null     object\n",
      " 3   Value    12 non-null     int64 \n",
      " 4   Year     12 non-null     object\n",
      " 5   Quarter  12 non-null     object\n",
      "dtypes: int64(1), object(5)\n",
      "memory usage: 672.0+ bytes\n"
     ]
    },
    {
     "data": {
      "text/html": [
       "<div>\n",
       "<style scoped>\n",
       "    .dataframe tbody tr th:only-of-type {\n",
       "        vertical-align: middle;\n",
       "    }\n",
       "\n",
       "    .dataframe tbody tr th {\n",
       "        vertical-align: top;\n",
       "    }\n",
       "\n",
       "    .dataframe thead th {\n",
       "        text-align: right;\n",
       "    }\n",
       "</style>\n",
       "<table border=\"1\" class=\"dataframe\">\n",
       "  <thead>\n",
       "    <tr style=\"text-align: right;\">\n",
       "      <th></th>\n",
       "      <th>TIME</th>\n",
       "      <th>REP_MAR</th>\n",
       "      <th>UNIT</th>\n",
       "      <th>Value</th>\n",
       "      <th>Year</th>\n",
       "      <th>Quarter</th>\n",
       "    </tr>\n",
       "  </thead>\n",
       "  <tbody>\n",
       "    <tr>\n",
       "      <th>295</th>\n",
       "      <td>2018Q1</td>\n",
       "      <td>Estonia</td>\n",
       "      <td>Thousand tonnes</td>\n",
       "      <td>7752</td>\n",
       "      <td>2018</td>\n",
       "      <td>Q1</td>\n",
       "    </tr>\n",
       "    <tr>\n",
       "      <th>335</th>\n",
       "      <td>2018Q1</td>\n",
       "      <td>Latvia</td>\n",
       "      <td>Thousand tonnes</td>\n",
       "      <td>13984</td>\n",
       "      <td>2018</td>\n",
       "      <td>Q1</td>\n",
       "    </tr>\n",
       "    <tr>\n",
       "      <th>340</th>\n",
       "      <td>2018Q1</td>\n",
       "      <td>Lithuania</td>\n",
       "      <td>Thousand tonnes</td>\n",
       "      <td>12567</td>\n",
       "      <td>2018</td>\n",
       "      <td>Q1</td>\n",
       "    </tr>\n",
       "    <tr>\n",
       "      <th>430</th>\n",
       "      <td>2018Q2</td>\n",
       "      <td>Estonia</td>\n",
       "      <td>Thousand tonnes</td>\n",
       "      <td>8287</td>\n",
       "      <td>2018</td>\n",
       "      <td>Q2</td>\n",
       "    </tr>\n",
       "    <tr>\n",
       "      <th>470</th>\n",
       "      <td>2018Q2</td>\n",
       "      <td>Latvia</td>\n",
       "      <td>Thousand tonnes</td>\n",
       "      <td>15704</td>\n",
       "      <td>2018</td>\n",
       "      <td>Q2</td>\n",
       "    </tr>\n",
       "  </tbody>\n",
       "</table>\n",
       "</div>"
      ],
      "text/plain": [
       "       TIME    REP_MAR             UNIT  Value  Year Quarter\n",
       "295  2018Q1    Estonia  Thousand tonnes   7752  2018      Q1\n",
       "335  2018Q1     Latvia  Thousand tonnes  13984  2018      Q1\n",
       "340  2018Q1  Lithuania  Thousand tonnes  12567  2018      Q1\n",
       "430  2018Q2    Estonia  Thousand tonnes   8287  2018      Q2\n",
       "470  2018Q2     Latvia  Thousand tonnes  15704  2018      Q2"
      ]
     },
     "execution_count": 15,
     "metadata": {},
     "output_type": "execute_result"
    }
   ],
   "source": [
    "data2018=baltic[baltic['Year']=='2018'].copy()\n",
    "data2018.info()\n",
    "data2018.head()"
   ]
  },
  {
   "cell_type": "code",
   "execution_count": 16,
   "metadata": {},
   "outputs": [
    {
     "data": {
      "image/png": "[encoded data removed]",
      "text/plain": [
       "<Figure size 432x288 with 1 Axes>"
      ]
     },
     "metadata": {
      "needs_background": "light"
     },
     "output_type": "display_data"
    }
   ],
   "source": [
    "%matplotlib inline\n",
    "\n",
    "\n",
    "labels = ['Q1','Q2','Q3','Q4']\n",
    "\n",
    "Latvia18=baltic[(baltic['Year']=='2018')&(baltic['REP_MAR']=='Latvia')]\n",
    "latvia_data_18=Latvia18['Value']\n",
    "Lithuania18=baltic[(baltic['Year']=='2018')&(baltic['REP_MAR']=='Lithuania')]\n",
    "lithuania_data_18=Lithuania18['Value']\n",
    "Estonia18=baltic[(baltic['Year']=='2018')&(baltic['REP_MAR']=='Estonia')]\n",
    "estonia_data_18=Estonia18['Value']\n",
    "\n",
    "bar_positions = arange(4)\n",
    "x = np.arange(len(labels))  # the label locations\n",
    "width = 0.45\n",
    "\n",
    "\n",
    "fig, ax = plt.subplots()\n",
    "rects1 = ax.bar(bar_positions,latvia_data_18, width, label='Latvia',align='center')\n",
    "rects2 = ax.bar(bar_positions, lithuania_data_18, width, label='Lithuania',align='edge')\n",
    "rects3 = ax.bar(bar_positions, estonia_data_18, width, label='Lithuania',align='center')\n",
    "\n",
    "ax.set_ylabel('Weight kt')\n",
    "ax.set_title('2018 Baltic data')\n",
    "ax.set_xticks(x)\n",
    "ax.set_xticklabels(labels)\n",
    "ax.legend(handles=[rects1,rects2,rects3], title='Countries',bbox_to_anchor=(1.05, 1), loc='upper left')\n",
    "plt.show()"
   ]
  },
  {
   "cell_type": "markdown",
   "metadata": {},
   "source": [
    "No particular pattern for Estonia again, Lithuania is showing increase throughout the year."
   ]
  },
  {
   "cell_type": "markdown",
   "metadata": {},
   "source": [
    "Lets look at yearly averages per country over the 2018-2019 period"
   ]
  },
  {
   "cell_type": "code",
   "execution_count": 17,
   "metadata": {},
   "outputs": [
    {
     "data": {
      "text/html": [
       "<div>\n",
       "<style scoped>\n",
       "    .dataframe tbody tr th:only-of-type {\n",
       "        vertical-align: middle;\n",
       "    }\n",
       "\n",
       "    .dataframe tbody tr th {\n",
       "        vertical-align: top;\n",
       "    }\n",
       "\n",
       "    .dataframe thead th {\n",
       "        text-align: right;\n",
       "    }\n",
       "</style>\n",
       "<table border=\"1\" class=\"dataframe\">\n",
       "  <thead>\n",
       "    <tr style=\"text-align: right;\">\n",
       "      <th></th>\n",
       "      <th>2018</th>\n",
       "      <th>2019</th>\n",
       "    </tr>\n",
       "  </thead>\n",
       "  <tbody>\n",
       "    <tr>\n",
       "      <th>Estonia</th>\n",
       "      <td>8108.50</td>\n",
       "      <td>8592.75</td>\n",
       "    </tr>\n",
       "    <tr>\n",
       "      <th>Lithuania</th>\n",
       "      <td>13115.75</td>\n",
       "      <td>13061.00</td>\n",
       "    </tr>\n",
       "    <tr>\n",
       "      <th>Latvia</th>\n",
       "      <td>15201.00</td>\n",
       "      <td>14311.75</td>\n",
       "    </tr>\n",
       "  </tbody>\n",
       "</table>\n",
       "</div>"
      ],
      "text/plain": [
       "               2018      2019\n",
       "Estonia     8108.50   8592.75\n",
       "Lithuania  13115.75  13061.00\n",
       "Latvia     15201.00  14311.75"
      ]
     },
     "execution_count": 17,
     "metadata": {},
     "output_type": "execute_result"
    }
   ],
   "source": [
    "es_2018_mean=estonia_data_18.mean()\n",
    "es_2019_mean=estonia_data.mean()\n",
    "lt_2018_mean=lithuania_data_18.mean()\n",
    "lt_2019_mean=lithuania_data.mean()\n",
    "lv_2018_mean=latvia_data_18.mean()\n",
    "lv_2019_mean=latvia_data.mean()\n",
    "\n",
    "mean_table=pd.DataFrame()\n",
    "mean_table['2018']=[es_2018_mean,lt_2018_mean,lv_2018_mean]\n",
    "mean_table['2019']=[es_2019_mean,lt_2019_mean,lv_2019_mean]\n",
    "\n",
    "mean_table.index = ['Estonia', 'Lithuania', 'Latvia']\n",
    "\n",
    "mean_table\n"
   ]
  },
  {
   "cell_type": "code",
   "execution_count": 18,
   "metadata": {},
   "outputs": [
    {
     "data": {
      "text/plain": [
       "Text(0, 0.5, 'Weight(kt)')"
      ]
     },
     "execution_count": 18,
     "metadata": {},
     "output_type": "execute_result"
    },
    {
     "data": {
      "image/png": "[encoded data removed]",
      "text/plain": [
       "<Figure size 720x360 with 1 Axes>"
      ]
     },
     "metadata": {
      "needs_background": "light"
     },
     "output_type": "display_data"
    }
   ],
   "source": [
    "labels_1=['Estonia', 'Lithuania', 'Latvia']\n",
    "\n",
    "mean_table['2018'].plot.bar(legend=True,color='green',figsize=(10,5),align='center',rot='0',fontsize='15',\n",
    "                         yticks=[0, 5000, 7500, 10000, 12500, 15000,17500],ylim=[0,17500],)\n",
    "mean_table['2019'].plot.bar(legend=True,color='orange',figsize=(10,5),align='edge',rot='0',fontsize='15')\n",
    "plt.title('Comparing Mean Tonnage Handled in Baltics',fontsize='22')\n",
    "plt.ylabel('Weight(kt)',fontsize='15')\n"
   ]
  },
  {
   "cell_type": "markdown",
   "metadata": {},
   "source": [
    "We can see that average weight of goods handled in Latvia slightly declined Y/Y, Lithuania remained constant and Estonia increased"
   ]
  }
 ],
 "metadata": {
  "kernelspec": {
   "display_name": "Python 3",
   "language": "python",
   "name": "python3"
  },
  "language_info": {
   "codemirror_mode": {
    "name": "ipython",
    "version": 3
   },
   "file_extension": ".py",
   "mimetype": "text/x-python",
   "name": "python",
   "nbconvert_exporter": "python",
   "pygments_lexer": "ipython3",
   "version": "3.7.2"
  }
 },
 "nbformat": 4,
 "nbformat_minor": 4
}
